{
 "cells": [
  {
   "cell_type": "code",
   "execution_count": 8,
   "id": "f743d346",
   "metadata": {},
   "outputs": [
    {
     "data": {
      "text/plain": [
       "[Document(metadata={'row_index': 0}, page_content='SN                                     1\\nslno                             C1954Y1\\neqID                          NOP/STC/01\\neqName    Station Computer-01 DELL-T5600\\nloc                            TELEMETRY\\nsrvNo                                  -\\nfails                                  3'),\n",
       " Document(metadata={'row_index': 1}, page_content='SN                                     2\\nslno                             81954Y1\\neqID                          NOP/STC/02\\neqName    Station Computer-02 DELL-T5600\\nloc                            TELEMETRY\\nsrvNo                                  -\\nfails                                  2'),\n",
       " Document(metadata={'row_index': 2}, page_content='SN                                     3\\nslno                             B1954Y1\\neqID                          NOP/STC/04\\neqName    Station Computer-04 DELL-T5600\\nloc                            TELEMETRY\\nsrvNo                                  -\\nfails                                  0'),\n",
       " Document(metadata={'row_index': 3}, page_content='SN                                    4\\nslno                         712656.035\\neqID                         NOP/GEI/01\\neqName    GEI-SPARE BECKHOFF/C5101-0010\\nloc                            COMP LAB\\nsrvNo                          AC/A0002\\nfails                                 0'),\n",
       " Document(metadata={'row_index': 4}, page_content='SN                                                  5\\nslno                                         80104034\\neqID                                       NOP/KVM/01\\neqName    3 in 1 Control Center RKVM-1501 RS_400CD_US\\nloc                                     EAST ANT ROOM\\nsrvNo                                        AC/A0003\\nfails                                               0'),\n",
       " Document(metadata={'row_index': 5}, page_content='SN                                     6\\nslno                             FF2ZQ13\\neqID                          NOP/STC/03\\neqName    Station Computer-03 DELL-T5600\\nloc                            TELEMETRY\\nsrvNo                                  -\\nfails                                  0'),\n",
       " Document(metadata={'row_index': 6}, page_content='SN                                                 7\\nslno                                        80104035\\neqID                                      NOP/KVM/02\\neqName    3 in 1 Control Center RKVM-1501RS_400CD_US\\nloc                                    WEST ANT ROOM\\nsrvNo                                       AC/A0004\\nfails                                              0'),\n",
       " Document(metadata={'row_index': 7}, page_content='SN                                    8\\nslno                         712656.038\\neqID                         NOP/GEI/03\\neqName    GEI-SPARE BECKHOFF/C5101-0010\\nloc                            COMP LAB\\nsrvNo                          AC/A0005\\nfails                                 0'),\n",
       " Document(metadata={'row_index': 8}, page_content='SN                                   9\\nslno                        712656.034\\neqID                        NOP/GEI/02\\neqName    GEI-EAST BECKHOFF/C5101-0010\\nloc                      EAST ANT ROOM\\nsrvNo                         AC/A0006\\nfails                                0'),\n",
       " Document(metadata={'row_index': 9}, page_content='SN                                                10\\nslno                                        80104038\\neqID                                      NOP/KVM/03\\neqName    3 in 1 Control Center RKVM-1501RS_400CD_US\\nloc                                        TELEMETRY\\nsrvNo                                       AC/A0007\\nfails                                              0'),\n",
       " Document(metadata={'row_index': 10}, page_content='SN                                  11\\nslno                         712656.04\\neqID                        NOP/GEI/04\\neqName    GEI-WEST BECKHOFF/C5101-0010\\nloc                      WEST ANT ROOM\\nsrvNo                         AC/A0008\\nfails                                0'),\n",
       " Document(metadata={'row_index': 11}, page_content='SN                               12\\nslno                     VNB8B5YJ2G\\neqID                    NOP/NPRN/01\\neqName    HP LaserJet Printer P3015\\nloc                       TELEMETRY\\nsrvNo                             -\\nfails                             0'),\n",
       " Document(metadata={'row_index': 12}, page_content='SN                                              13\\nslno                                   BCV2242J06T\\neqID                                     NOP/SW/01\\neqName    TTC-LAN SWITCH-01 Brocade FCX624S Series\\nloc                                      TELEMETRY\\nsrvNo                                            -\\nfails                                            0'),\n",
       " Document(metadata={'row_index': 13}, page_content='SN                                              14\\nslno                                   BCV2242J0AV\\neqID                                     NOP/SW/02\\neqName    TTC-LAN SWITCH-02 Brocade FCX624S Series\\nloc                                      TELEMETRY\\nsrvNo                                            -\\nfails                                            0'),\n",
       " Document(metadata={'row_index': 14}, page_content='SN                                              15\\nslno                                   BCV2241J0AK\\neqID                                     NOP/SW/03\\neqName    TTC-LAN SWITCH-02 Brocade FCX624S Series\\nloc                                          SPARE\\nsrvNo                                            -\\nfails                                            0'),\n",
       " Document(metadata={'row_index': 15}, page_content='SN                                              16\\nslno                                           NaN\\neqID                                     NOP/SW/04\\neqName    TTC-LAN SWITCH-02 Brocade Ruckus-ICX7150\\nloc                                  EAST ANT ROOM\\nsrvNo                                            -\\nfails                                            0'),\n",
       " Document(metadata={'row_index': 16}, page_content='SN                                              17\\nslno                                           NaN\\neqID                                     NOP/SW/05\\neqName    TTC-LAN SWITCH-02 Brocade Ruckus-ICX7150\\nloc                                  WEST ANT ROOM\\nsrvNo                                            -\\nfails                                            0'),\n",
       " Document(metadata={'row_index': 17}, page_content='SN                                              18\\nslno                                           NaN\\neqID                                     NOP/SW/06\\neqName    TTC-LAN SWITCH-02 Brocade Ruckus-ICX7150\\nloc                                          SPARE\\nsrvNo                                            -\\nfails                                            0'),\n",
       " Document(metadata={'row_index': 18}, page_content='SN                                                       19\\nslno                                                7SJ3V72\\neqID                                             NOP/MCP/01\\neqName    Monitor & Control Processor-01 DELL Power Edge...\\nloc                                               TELEMETRY\\nsrvNo                                                     -\\nfails                                                     0'),\n",
       " Document(metadata={'row_index': 19}, page_content='SN                                                       20\\nslno                                                7XY2V72\\neqID                                             NOP/MCP/02\\neqName    Monitor & Control Processor-02 DELL Power Edge...\\nloc                                               TELEMETRY\\nsrvNo                                                     -\\nfails                                                     0'),\n",
       " Document(metadata={'row_index': 20}, page_content='SN                                              21\\nslno                                   BCV2241J0A6\\neqID                                    NOP/NSW/01\\neqName    NCC LAN Switch-01 Brocade FCX624S Series\\nloc                                      TELEMETRY\\nsrvNo                                            -\\nfails                                            0'),\n",
       " Document(metadata={'row_index': 21}, page_content='SN                                              22\\nslno                                   BCV2241J0B1\\neqID                                    NOP/NSW/02\\neqName    NCC LAN Switch-02 Brocade FCX624S Series\\nloc                                      TELEMETRY\\nsrvNo                                            -\\nfails                                            0'),\n",
       " Document(metadata={'row_index': 22}, page_content='SN                                     23\\nslno                          FMKD85031TK\\neqID                          NOP/NRTR/01\\neqName    NCC Router-01 CISCO System 1760\\nloc                                 IRDCN\\nsrvNo                          AC/IE/5336\\nfails                                   0'),\n",
       " Document(metadata={'row_index': 23}, page_content='SN                                     24\\nslno                                  NaN\\neqID                          NOP/NRTR/02\\neqName    NCC Router-02 CISCO System 2811\\nloc                                 IRDCN\\nsrvNo                                   -\\nfails                                   1'),\n",
       " Document(metadata={'row_index': 24}, page_content='SN                                     25\\nslno                          FMKD85011UG\\neqID                        NOP///NRTR/03\\neqName    NCC Router-02 CISCO System 1760\\nloc                                 SPARE\\nsrvNo                          AC/IE/5334\\nfails                                   0'),\n",
       " Document(metadata={'row_index': 25}, page_content='SN                   26\\nslno                NaN\\neqID      NOP///SIMPC01\\neqName         BECKHOFF\\nloc           TELEMETRY\\nsrvNo                 -\\nfails                 0'),\n",
       " Document(metadata={'row_index': 26}, page_content='SN                   27\\nslno                NaN\\neqID      NOP///SIMPC02\\neqName         BECKHOFF\\nloc           TELEMETRY\\nsrvNo                 -\\nfails                 0'),\n",
       " Document(metadata={'row_index': 27}, page_content='SN                   28\\nslno                NaN\\neqID      NOP///RKVM/04\\neqName             RKVM\\nloc           TELEMETRY\\nsrvNo                 -\\nfails                 0'),\n",
       " Document(metadata={'row_index': 28}, page_content='SN                          29\\nslno                   5DR1VG2\\neqID              NOP///GEI/TM\\neqName    DELL Power Edge R730\\nloc                  TELEMETRY\\nsrvNo                        -\\nfails                        0'),\n",
       " Document(metadata={'row_index': 29}, page_content='SN                                    30\\nslno                             22954Y1\\neqID                        NOP///STC/05\\neqName    Station Computer-05 DELL-T5600\\nloc                            TELEMETRY\\nsrvNo                                  -\\nfails                                  1'),\n",
       " Document(metadata={'row_index': 30}, page_content='SN                                    31\\nslno                                 NaN\\neqID                        NOP///STC/06\\neqName    Station Computer-06 DELL-T5600\\nloc                            TELEMETRY\\nsrvNo                                  -\\nfails                                  0'),\n",
       " Document(metadata={'row_index': 31}, page_content='SN                         32\\nslno                      NaN\\neqID              Station GW1\\neqName    DELL Precision 5820\\nloc                 TELEMETRY\\nsrvNo                       -\\nfails                       0'),\n",
       " Document(metadata={'row_index': 32}, page_content='SN                         33\\nslno                      NaN\\neqID              Station GW2\\neqName    DELL Precision 5820\\nloc                 TELEMETRY\\nsrvNo                       -\\nfails                       0'),\n",
       " Document(metadata={'row_index': 33}, page_content='SN                             34\\nslno                      71954Y1\\neqID                 NOP///UHF/RX\\neqName    UHF Computer DELL-T5600\\nloc                     TELEMETRY\\nsrvNo                           -\\nfails                           0'),\n",
       " Document(metadata={'row_index': 34}, page_content='SN                                     35\\nslno                           INA308X24M\\neqID                         NOP///UHF/TX\\neqName    VHF Computer HP Compaq pro 6300\\nloc                             TELEMETRY\\nsrvNo                                   -\\nfails                                   0'),\n",
       " Document(metadata={'row_index': 35}, page_content='SN                         36\\nslno                      NaN\\neqID      Replacement for STC\\neqName    DELL Precision 5820\\nloc                       LAB\\nsrvNo                       -\\nfails                       0'),\n",
       " Document(metadata={'row_index': 36}, page_content='SN                         37\\nslno                      NaN\\neqID      Replacement for STC\\neqName    DELL Precision 5820\\nloc                       LAB\\nsrvNo                       -\\nfails                       0'),\n",
       " Document(metadata={'row_index': 37}, page_content='SN                                    38\\nslno                                 NaN\\neqID                        NOP///STC/07\\neqName    Station Computer-01 DELL-T5820\\nloc                           /_ANT-ROOM\\nsrvNo                                  -\\nfails                                  0'),\n",
       " Document(metadata={'row_index': 38}, page_content='SN                                    39\\nslno                                 NaN\\neqID                        NOP///STC/08\\neqName    Station Computer-02 DELL-T5820\\nloc                           /_ANT-ROOM\\nsrvNo                                  -\\nfails                                  0'),\n",
       " Document(metadata={'row_index': 39}, page_content='SN                                                       40\\nslno                                                    NaN\\neqID                                           NOP///MCP/01\\neqName    Monitor & Control Processor-01 Fujitsu server ...\\nloc                                              /_ANT-ROOM\\nsrvNo                                                     -\\nfails                                                     0'),\n",
       " Document(metadata={'row_index': 40}, page_content='SN                                                       41\\nslno                                                    NaN\\neqID                                           NOP///MCP/02\\neqName    Monitor & Control Processor-02 Fujitsu server ...\\nloc                                              /_ANT-ROOM\\nsrvNo                                                     -\\nfails                                                     0'),\n",
       " Document(metadata={'row_index': 41}, page_content='SN                                                       42\\nslno                                                    NaN\\neqID                                           NOP///GEI/01\\neqName    General Equipment Interface Fujitsu server IX ...\\nloc                                              /_ANT-ROOM\\nsrvNo                                                     -\\nfails                                                     0'),\n",
       " Document(metadata={'row_index': 42}, page_content='SN                            43\\nslno                         NaN\\neqID                   LAN/SW/01\\neqName    LAN Switch-01 DELL-EMC\\nloc                   /_ANT-ROOM\\nsrvNo                          -\\nfails                          0'),\n",
       " Document(metadata={'row_index': 43}, page_content='SN                            44\\nslno                         NaN\\neqID                   LAN/SW/02\\neqName    LAN Switch-01 DELL-EMC\\nloc                   /_ANT-ROOM\\nsrvNo                          -\\nfails                          0'),\n",
       " Document(metadata={'row_index': 44}, page_content='SN                            45\\nslno                         NaN\\neqID                   LAN/SW/03\\neqName    LAN Switch-01 DELL-EMC\\nloc                   /_ANT-ROOM\\nsrvNo                          -\\nfails                          0'),\n",
       " Document(metadata={'row_index': 45}, page_content='SN                            46\\nslno                         NaN\\neqID                   LAN/SW/04\\neqName    LAN Switch-01 DELL-EMC\\nloc                   /_ANT-ROOM\\nsrvNo                          -\\nfails                          0'),\n",
       " Document(metadata={'row_index': 46}, page_content='SN                   47\\nslno                NaN\\neqID      SCC_LAN SW/01\\neqName          FOUNDRY\\nloc          /_ANT-ROOM\\nsrvNo                 -\\nfails                 0'),\n",
       " Document(metadata={'row_index': 47}, page_content='SN                   48\\nslno                NaN\\neqID      SCC_LAN SW/02\\neqName          FOUNDRY\\nloc          /_ANT-ROOM\\nsrvNo                 -\\nfails                 0'),\n",
       " Document(metadata={'row_index': 48}, page_content='SN                   49\\nslno                NaN\\neqID            RKVM/01\\neqName    IP Based RKVM\\nloc          /_ANT-ROOM\\nsrvNo                 -\\nfails                 0'),\n",
       " Document(metadata={'row_index': 49}, page_content='SN                     50\\nslno                  NaN\\neqID          NOP///SW/07\\neqName    Ethernet Switch\\nloc                   NaN\\nsrvNo                   -\\nfails                   0'),\n",
       " Document(metadata={'row_index': 50}, page_content='SN                     51\\nslno                  NaN\\neqID          NOP///SW/08\\neqName    Ethernet Switch\\nloc                   NaN\\nsrvNo                   -\\nfails                   0'),\n",
       " Document(metadata={'row_index': 51}, page_content='SN                     52\\nslno                  NaN\\neqID          NOP///SW/09\\neqName    Ethernet Switch\\nloc                   NaN\\nsrvNo                   -\\nfails                   0'),\n",
       " Document(metadata={'row_index': 52}, page_content='SN                            53\\nslno                         NaN\\neqID                 NOP///PS/01\\neqName    24/28V DC Power Supply\\nloc                          NaN\\nsrvNo                          -\\nfails                          0'),\n",
       " Document(metadata={'row_index': 53}, page_content='SN                            54\\nslno                         NaN\\neqID                 NOP///PS/02\\neqName    24/28V DC Power Supply\\nloc                          NaN\\nsrvNo                          -\\nfails                          0'),\n",
       " Document(metadata={'row_index': 54}, page_content='SN                            55\\nslno                         NaN\\neqID                 NOP///PS/03\\neqName    24/28V DC Power Supply\\nloc                          NaN\\nsrvNo                          -\\nfails                          0'),\n",
       " Document(metadata={'row_index': 55}, page_content='SN                            56\\nslno                         NaN\\neqID                 NOP///PS/04\\neqName    24/28V DC Power Supply\\nloc                          NaN\\nsrvNo                          -\\nfails                          0'),\n",
       " Document(metadata={'row_index': 56}, page_content='SN                            57\\nslno                         NaN\\neqID                 NOP///PS/05\\neqName    24/28V DC Power Supply\\nloc                          NaN\\nsrvNo                          -\\nfails                          0'),\n",
       " Document(metadata={'row_index': 57}, page_content='SN                            58\\nslno                         NaN\\neqID                 NOP///PS/06\\neqName    24/28V DC Power Supply\\nloc                          NaN\\nsrvNo                          -\\nfails                          0'),\n",
       " Document(metadata={'row_index': 58}, page_content='SN                            59\\nslno                         248\\neqID                 NOP///PS/07\\neqName    24/28V DC Power Supply\\nloc                          NaN\\nsrvNo                          -\\nfails                          0'),\n",
       " Document(metadata={'row_index': 59}, page_content='SN                          60\\nslno      SL-03308-127-567-782\\neqID           NOP///TH_COM/01\\neqName     Thinvent Thinclient\\nloc                  TELEMETRY\\nsrvNo                        -\\nfails                        0'),\n",
       " Document(metadata={'row_index': 60}, page_content='SN                          61\\nslno      SL-03308-127-567-783\\neqID           NOP///TH_COM/02\\neqName     Thinvent Thinclient\\nloc                        LAB\\nsrvNo                        -\\nfails                        0'),\n",
       " Document(metadata={'row_index': 61}, page_content='SN                          62\\nslno      SL-03308-127-567-784\\neqID           NOP///TH_COM/03\\neqName     Thinvent Thinclient\\nloc                        LAB\\nsrvNo                        -\\nfails                        0')]"
      ]
     },
     "execution_count": 8,
     "metadata": {},
     "output_type": "execute_result"
    }
   ],
   "source": [
    "import pandas as pd\n",
    "from langchain_core.documents import Document\n",
    "\n",
    "# Load your Excel file\n",
    "df = pd.read_excel(\"equipments.xlsx\")\n",
    "\n",
    "# Convert each row to a LangChain Document\n",
    "docs = [\n",
    "    Document(\n",
    "        page_content=row.to_string(),  # Stringify the row\n",
    "        metadata={\"row_index\": idx}\n",
    "    )\n",
    "    for idx, row in df.iterrows()\n",
    "]\n",
    "\n",
    "# Preview the documents\n",
    "docs\n"
   ]
  },
  {
   "cell_type": "code",
   "execution_count": null,
   "id": "61e5d843",
   "metadata": {},
   "outputs": [],
   "source": [
    "# import os\n",
    "# from dotenv import load_dotenv\n",
    "# load_dotenv()\n",
    "\n",
    "# os.environ['OPENAI_API_KEY'] = os.getenv(\"OPENAI_API_KEY\")"
   ]
  },
  {
   "cell_type": "code",
   "execution_count": 9,
   "id": "d34d519b",
   "metadata": {},
   "outputs": [
    {
     "data": {
      "text/plain": [
       "[Document(metadata={'row_index': 0}, page_content='SN                                     1\\nslno                             C1954Y1\\neqID                          NOP/STC/01\\neqName    Station Computer-01 DELL-T5600\\nloc                            TELEMETRY\\nsrvNo                                  -\\nfails                                  3'),\n",
       " Document(metadata={'row_index': 1}, page_content='SN                                     2\\nslno                             81954Y1\\neqID                          NOP/STC/02\\neqName    Station Computer-02 DELL-T5600\\nloc                            TELEMETRY\\nsrvNo                                  -\\nfails                                  2'),\n",
       " Document(metadata={'row_index': 2}, page_content='SN                                     3\\nslno                             B1954Y1\\neqID                          NOP/STC/04\\neqName    Station Computer-04 DELL-T5600\\nloc                            TELEMETRY\\nsrvNo                                  -\\nfails                                  0'),\n",
       " Document(metadata={'row_index': 3}, page_content='SN                                    4\\nslno                         712656.035\\neqID                         NOP/GEI/01\\neqName    GEI-SPARE BECKHOFF/C5101-0010\\nloc                            COMP LAB\\nsrvNo                          AC/A0002\\nfails                                 0'),\n",
       " Document(metadata={'row_index': 4}, page_content='SN                                                  5\\nslno                                         80104034\\neqID                                       NOP/KVM/01\\neqName    3 in 1 Control Center RKVM-1501 RS_400CD_US\\nloc                                     EAST ANT ROOM\\nsrvNo                                        AC/A0003\\nfails                                               0')]"
      ]
     },
     "execution_count": 9,
     "metadata": {},
     "output_type": "execute_result"
    }
   ],
   "source": [
    "## after loading the data we will transform the data\n",
    "## divide the entire document into chunks\n",
    "from langchain.text_splitter import RecursiveCharacterTextSplitter\n",
    "text_splitter = RecursiveCharacterTextSplitter(chunk_size = 1000, chunk_overlap=200)\n",
    "documents = text_splitter.split_documents(docs)\n",
    "documents[:5]"
   ]
  },
  {
   "cell_type": "code",
   "execution_count": 13,
   "id": "41f89ea9",
   "metadata": {},
   "outputs": [
    {
     "name": "stderr",
     "output_type": "stream",
     "text": [
      "/var/folders/v3/k21yfyps5v79sdcv8v4hrjth0000gn/T/ipykernel_29671/3216767368.py:4: LangChainDeprecationWarning: The class `HuggingFaceBgeEmbeddings` was deprecated in LangChain 0.2.2 and will be removed in 1.0. An updated version of the class exists in the :class:`~langchain-huggingface package and should be used instead. To use it run `pip install -U :class:`~langchain-huggingface` and import as `from :class:`~langchain_huggingface import HuggingFaceEmbeddings``.\n",
      "  embedding = HuggingFaceBgeEmbeddings(model_name = \"all-MiniLM-L6-v2\") #Fast and Lightweight\n",
      "/Users/shash/Documents/projects_/chatbot_for_excel/.venv/lib/python3.13/site-packages/tqdm/auto.py:21: TqdmWarning: IProgress not found. Please update jupyter and ipywidgets. See https://ipywidgets.readthedocs.io/en/stable/user_install.html\n",
      "  from .autonotebook import tqdm as notebook_tqdm\n"
     ]
    }
   ],
   "source": [
    "## we will do embeddings to convert the data in vectors and then store in vectore store\n",
    "from langchain_community.embeddings import HuggingFaceBgeEmbeddings\n",
    "from langchain_community.vectorstores import Chroma\n",
    "embedding = HuggingFaceBgeEmbeddings(model_name = \"all-MiniLM-L6-v2\") #Fast and Lightweight\n",
    "db = Chroma.from_documents(documents=docs, embedding=embedding, persist_directory=\"chroma_db\")\n"
   ]
  },
  {
   "cell_type": "code",
   "execution_count": 16,
   "id": "9d7db046",
   "metadata": {},
   "outputs": [
    {
     "data": {
      "text/plain": [
       "'SN                                     1\\nslno                             C1954Y1\\neqID                          NOP/STC/01\\neqName    Station Computer-01 DELL-T5600\\nloc                            TELEMETRY\\nsrvNo                                  -\\nfails                                  3'"
      ]
     },
     "execution_count": 16,
     "metadata": {},
     "output_type": "execute_result"
    }
   ],
   "source": [
    "## Vector database\n",
    "query = \"What is the name of equipment with equipment ID NOP/STC/04\"\n",
    "result = db.similarity_search(query)\n",
    "result[0].page_content"
   ]
  },
  {
   "cell_type": "code",
   "execution_count": 18,
   "id": "e5aa212d",
   "metadata": {},
   "outputs": [
    {
     "data": {
      "text/plain": [
       "Ollama(model='llama3.2')"
      ]
     },
     "execution_count": 18,
     "metadata": {},
     "output_type": "execute_result"
    }
   ],
   "source": [
    "from langchain_community.llms import Ollama\n",
    "llm = Ollama(model = \"llama3.2\")\n",
    "llm"
   ]
  },
  {
   "cell_type": "code",
   "execution_count": 23,
   "id": "2fd8c456",
   "metadata": {},
   "outputs": [],
   "source": [
    "## Design ChatPrompt Template\n",
    "from langchain_core.prompts import ChatPromptTemplate\n",
    "prompt = ChatPromptTemplate.from_template(\n",
    "    \"\"\"You are an assistant that helps users explore and manage equipment information from an inventory dataset. \n",
    "    Answer questions about specific equipment, summarize failure counts, identify equipment by location, or list items by attributes such as type or ID.\n",
    "    I want to know about [specific detail or ID]. \n",
    "    (Examples: \n",
    "    - \"List all equipment in TELEMETRY with more than 1 failure.\"\n",
    "    - \"What is the location and service number of NOP/KVM/01?\"\n",
    "    - \"Summarize all DELL-T5600 computers and their status.\")\n",
    "    You can refer to equipment by:\n",
    "    - ID (eqID)\n",
    "    - Name (eqName)\n",
    "    - Location (loc)\n",
    "    - Failure count (fails)\n",
    "    - Service number (srvNo)\n",
    "    <context>\n",
    "    {context}\n",
    "    </context>\n",
    "    Question : {input} \"\"\")"
   ]
  },
  {
   "cell_type": "code",
   "execution_count": 25,
   "id": "8676377f",
   "metadata": {},
   "outputs": [],
   "source": [
    "## Chain Introduction\n",
    "## Create Stuff Document Chain\n",
    "from langchain.chains.combine_documents import create_stuff_documents_chain\n",
    "\n",
    "document_chain = create_stuff_documents_chain(llm, prompt)"
   ]
  },
  {
   "cell_type": "code",
   "execution_count": 27,
   "id": "bfbd675f",
   "metadata": {},
   "outputs": [
    {
     "data": {
      "text/plain": [
       "VectorStoreRetriever(tags=['Chroma', 'HuggingFaceBgeEmbeddings'], vectorstore=<langchain_community.vectorstores.chroma.Chroma object at 0x30bae4e10>, search_kwargs={})"
      ]
     },
     "execution_count": 27,
     "metadata": {},
     "output_type": "execute_result"
    }
   ],
   "source": [
    "retriever = db.as_retriever()\n",
    "retriever"
   ]
  },
  {
   "cell_type": "code",
   "execution_count": 29,
   "id": "43d9d869",
   "metadata": {},
   "outputs": [],
   "source": [
    "## Retrieval Chain\n",
    "from langchain.chains import create_retrieval_chain\n",
    "retrieval_chain = create_retrieval_chain(retriever, document_chain)"
   ]
  },
  {
   "cell_type": "code",
   "execution_count": 31,
   "id": "9d61ef91",
   "metadata": {},
   "outputs": [
    {
     "data": {
      "text/plain": [
       "'The location for the equipment NOP/KVM/01 is EAST ANT ROOM, and its corresponding service number is AC/A0003.'"
      ]
     },
     "execution_count": 31,
     "metadata": {},
     "output_type": "execute_result"
    }
   ],
   "source": [
    "response = retrieval_chain.invoke({\"input\":\"What is the location and service number of NOP/KVM/01?\"})\n",
    "response['answer']"
   ]
  }
 ],
 "metadata": {
  "kernelspec": {
   "display_name": ".venv",
   "language": "python",
   "name": "python3"
  },
  "language_info": {
   "codemirror_mode": {
    "name": "ipython",
    "version": 3
   },
   "file_extension": ".py",
   "mimetype": "text/x-python",
   "name": "python",
   "nbconvert_exporter": "python",
   "pygments_lexer": "ipython3",
   "version": "3.13.3"
  }
 },
 "nbformat": 4,
 "nbformat_minor": 5
}
